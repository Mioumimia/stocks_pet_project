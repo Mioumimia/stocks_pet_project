{
 "metadata": {
  "language_info": {
   "codemirror_mode": {
    "name": "ipython",
    "version": 3
   },
   "file_extension": ".py",
   "mimetype": "text/x-python",
   "name": "python",
   "nbconvert_exporter": "python",
   "pygments_lexer": "ipython3",
   "version": "3.8.5"
  },
  "orig_nbformat": 4,
  "kernelspec": {
   "name": "python3",
   "display_name": "Python 3.8.5 64-bit ('venv': venv)"
  },
  "interpreter": {
   "hash": "9857081b2c2d9632f20f791df270ac6c8a6d498dee49b4ff7eddac7174c354f8"
  }
 },
 "nbformat": 4,
 "nbformat_minor": 2,
 "cells": [
  {
   "cell_type": "code",
   "execution_count": 1,
   "metadata": {},
   "outputs": [],
   "source": [
    "import pandas as pd\n",
    "import tinvest as ti\n",
    "from tinvest import CandleResolution\n",
    "from tinvest import TooManyRequestsError, UnexpectedError\n",
    "\n",
    "from threading import Thread\n",
    "from tqdm.notebook import tqdm\n",
    "\n",
    "import os\n",
    "import datetime as dt\n",
    "import time\n",
    "\n",
    "import sqlite3\n",
    "import investpy\n",
    "import yfinance as yf"
   ]
  },
  {
   "cell_type": "code",
   "execution_count": 2,
   "metadata": {},
   "outputs": [],
   "source": [
    "pd.options.display.max_columns = 150"
   ]
  },
  {
   "source": [
    "### Источники данных\n",
    "Рассматривалось использование трех основных источников информации об акциях в качестве возможных: \n",
    "- tinvest, SDK для Tinkoff Инвестиции API\n",
    "- investpy, библиотека для использования данных с сайта investing.com\n",
    "- yfinanse, библиотека для и использования yahoo finanse API\n",
    "\n",
    "В связи с большим количеством необходимых запросов была задействевоно использование локальной БД с помощью sqlite3"
   ],
   "cell_type": "markdown",
   "metadata": {}
  },
  {
   "source": [
    "#### API Tinkoff Инвестиции\n",
    "Акуальная документация соответсвует версии библиотек 3.0 и выше, для которых необходимо использование python версией выше 3.8, поэтому для запуска кода, использующего эту библиотеку необходимо использование указанной версии python.\n",
    "\n",
    "Для использования API необходимо наличие токена, который можно завести в личном кабинете Тинькофф. Ограничения API - 240 операций в секунду на запросы по данным рынка. Для работы с API использовалось неофициальное SDK - tinvest - упомянутое на официальной странице API.\n",
    "\n",
    "Примера данных представлен также в файлах tinvest_daily_data.csv и tinvest_stocks_info.xlsx в приложенной ссылке на Google Drive."
   ],
   "cell_type": "markdown",
   "metadata": {}
  },
  {
   "cell_type": "code",
   "execution_count": 22,
   "metadata": {},
   "outputs": [],
   "source": [
    "TOKEN = os.getenv('TINVEST_TOKEN')"
   ]
  },
  {
   "cell_type": "code",
   "execution_count": 23,
   "metadata": {},
   "outputs": [
    {
     "output_type": "display_data",
     "data": {
      "text/plain": "       currency          figi          isin  lot min_price_increment  \\\n0  Currency.usd  BBG000HLJ7M4  US45867G1013    1                0.01   \n1  Currency.usd  BBG000BDSLD7  US8030542042    1                0.01   \n2  Currency.usd  BBG002293PJ4  US74967X1037    1                0.01   \n3  Currency.usd  BBG000CTQBF3  US8552441094    1                0.01   \n4  Currency.usd  BBG000BH0FR6  US81181C1045    1                0.01   \n\n                    name ticker                  type  min_quantity  \n0       InterDigItal Inc   IDCC  InstrumentType.stock           NaN  \n1                АДР SAP    SAP  InstrumentType.stock           NaN  \n2                     RH     RH  InstrumentType.stock           NaN  \n3  Starbucks Corporation   SBUX  InstrumentType.stock           NaN  \n4            Seagen Inc.   SGEN  InstrumentType.stock           NaN  ",
      "text/html": "<div>\n<style scoped>\n    .dataframe tbody tr th:only-of-type {\n        vertical-align: middle;\n    }\n\n    .dataframe tbody tr th {\n        vertical-align: top;\n    }\n\n    .dataframe thead th {\n        text-align: right;\n    }\n</style>\n<table border=\"1\" class=\"dataframe\">\n  <thead>\n    <tr style=\"text-align: right;\">\n      <th></th>\n      <th>currency</th>\n      <th>figi</th>\n      <th>isin</th>\n      <th>lot</th>\n      <th>min_price_increment</th>\n      <th>name</th>\n      <th>ticker</th>\n      <th>type</th>\n      <th>min_quantity</th>\n    </tr>\n  </thead>\n  <tbody>\n    <tr>\n      <th>0</th>\n      <td>Currency.usd</td>\n      <td>BBG000HLJ7M4</td>\n      <td>US45867G1013</td>\n      <td>1</td>\n      <td>0.01</td>\n      <td>InterDigItal Inc</td>\n      <td>IDCC</td>\n      <td>InstrumentType.stock</td>\n      <td>NaN</td>\n    </tr>\n    <tr>\n      <th>1</th>\n      <td>Currency.usd</td>\n      <td>BBG000BDSLD7</td>\n      <td>US8030542042</td>\n      <td>1</td>\n      <td>0.01</td>\n      <td>АДР SAP</td>\n      <td>SAP</td>\n      <td>InstrumentType.stock</td>\n      <td>NaN</td>\n    </tr>\n    <tr>\n      <th>2</th>\n      <td>Currency.usd</td>\n      <td>BBG002293PJ4</td>\n      <td>US74967X1037</td>\n      <td>1</td>\n      <td>0.01</td>\n      <td>RH</td>\n      <td>RH</td>\n      <td>InstrumentType.stock</td>\n      <td>NaN</td>\n    </tr>\n    <tr>\n      <th>3</th>\n      <td>Currency.usd</td>\n      <td>BBG000CTQBF3</td>\n      <td>US8552441094</td>\n      <td>1</td>\n      <td>0.01</td>\n      <td>Starbucks Corporation</td>\n      <td>SBUX</td>\n      <td>InstrumentType.stock</td>\n      <td>NaN</td>\n    </tr>\n    <tr>\n      <th>4</th>\n      <td>Currency.usd</td>\n      <td>BBG000BH0FR6</td>\n      <td>US81181C1045</td>\n      <td>1</td>\n      <td>0.01</td>\n      <td>Seagen Inc.</td>\n      <td>SGEN</td>\n      <td>InstrumentType.stock</td>\n      <td>NaN</td>\n    </tr>\n  </tbody>\n</table>\n</div>"
     },
     "metadata": {}
    },
    {
     "output_type": "display_data",
     "data": {
      "text/plain": "       c          figi      h              interval      l      o  \\\n0  74.37  BBG000B9X8C0  75.68  CandleResolution.day  73.86  75.14   \n1  74.91  BBG000B9X8C0  75.25  CandleResolution.day     74  74.38   \n2  76.08  BBG000B9X8C0  76.21  CandleResolution.day  75.08  75.21   \n3  73.99  BBG000B9X8C0   76.5  CandleResolution.day   73.1  75.66   \n4  75.58  BBG000B9X8C0  76.96  CandleResolution.day  74.44  74.96   \n\n                       time       v  \n0 2020-06-01 07:00:00+00:00  293707  \n1 2020-06-02 07:00:00+00:00  283474  \n2 2020-06-03 07:00:00+00:00  408469  \n3 2020-06-04 07:00:00+00:00  282975  \n4 2020-06-05 07:00:00+00:00  411271  ",
      "text/html": "<div>\n<style scoped>\n    .dataframe tbody tr th:only-of-type {\n        vertical-align: middle;\n    }\n\n    .dataframe tbody tr th {\n        vertical-align: top;\n    }\n\n    .dataframe thead th {\n        text-align: right;\n    }\n</style>\n<table border=\"1\" class=\"dataframe\">\n  <thead>\n    <tr style=\"text-align: right;\">\n      <th></th>\n      <th>c</th>\n      <th>figi</th>\n      <th>h</th>\n      <th>interval</th>\n      <th>l</th>\n      <th>o</th>\n      <th>time</th>\n      <th>v</th>\n    </tr>\n  </thead>\n  <tbody>\n    <tr>\n      <th>0</th>\n      <td>74.37</td>\n      <td>BBG000B9X8C0</td>\n      <td>75.68</td>\n      <td>CandleResolution.day</td>\n      <td>73.86</td>\n      <td>75.14</td>\n      <td>2020-06-01 07:00:00+00:00</td>\n      <td>293707</td>\n    </tr>\n    <tr>\n      <th>1</th>\n      <td>74.91</td>\n      <td>BBG000B9X8C0</td>\n      <td>75.25</td>\n      <td>CandleResolution.day</td>\n      <td>74</td>\n      <td>74.38</td>\n      <td>2020-06-02 07:00:00+00:00</td>\n      <td>283474</td>\n    </tr>\n    <tr>\n      <th>2</th>\n      <td>76.08</td>\n      <td>BBG000B9X8C0</td>\n      <td>76.21</td>\n      <td>CandleResolution.day</td>\n      <td>75.08</td>\n      <td>75.21</td>\n      <td>2020-06-03 07:00:00+00:00</td>\n      <td>408469</td>\n    </tr>\n    <tr>\n      <th>3</th>\n      <td>73.99</td>\n      <td>BBG000B9X8C0</td>\n      <td>76.5</td>\n      <td>CandleResolution.day</td>\n      <td>73.1</td>\n      <td>75.66</td>\n      <td>2020-06-04 07:00:00+00:00</td>\n      <td>282975</td>\n    </tr>\n    <tr>\n      <th>4</th>\n      <td>75.58</td>\n      <td>BBG000B9X8C0</td>\n      <td>76.96</td>\n      <td>CandleResolution.day</td>\n      <td>74.44</td>\n      <td>74.96</td>\n      <td>2020-06-05 07:00:00+00:00</td>\n      <td>411271</td>\n    </tr>\n  </tbody>\n</table>\n</div>"
     },
     "metadata": {}
    }
   ],
   "source": [
    "# client = ti.SyncClient(TOKEN)\n",
    "# response = client.get_market_stocks()\n",
    "# result = response.dict()[\"payload\"][\"instruments\"]\n",
    "# candle = client.get_market_candles(\n",
    "#     \"BBG000B9X8C0\",\n",
    "#     \"2020-06-01T00:00:00+03:00\",\n",
    "#     \"2020-06-30T00:00:00+03:00\",\n",
    "#     CandleResolution(\"day\"),\n",
    "# ).dict()[\"payload\"][\"candles\"]\n",
    "\n",
    "# ti_fundamental_df = pd.DataFrame(result)\n",
    "# candle_df = pd.DataFrame(candle)\n",
    "# display(ti_fundamental_df.head())\n",
    "# display(candle_df.head())"
   ]
  },
  {
   "source": [
    "Что значат эти исторические данные: \n",
    "- close price (c) цена бумаги на момент окончания рассмотренного периода\n",
    "- open price (o) цена бумаги на момент начала рассмотренного периода\n",
    "- high price (h) наибольшая цена за рассмотренный период\n",
    "- low price (l) наименьшая цена за рассмотренный период\n",
    "\n",
    "Заполнение БД из этого источника осуществляется с помощью скриптов в папке db."
   ],
   "cell_type": "markdown",
   "metadata": {}
  },
  {
   "cell_type": "code",
   "execution_count": 5,
   "metadata": {},
   "outputs": [],
   "source": [
    "def create_connection(db_file):\n",
    "    conn = None\n",
    "    try:\n",
    "        conn = sqlite3.connect(db_file)\n",
    "        print(sqlite3.version)\n",
    "    except Error as e:\n",
    "        print(e)\n",
    "    return conn"
   ]
  },
  {
   "cell_type": "code",
   "execution_count": 6,
   "metadata": {},
   "outputs": [
    {
     "output_type": "stream",
     "name": "stdout",
     "text": [
      "2.6.0\n"
     ]
    }
   ],
   "source": [
    "database = r\"pythonsqlite.db\"\n",
    "conn = create_connection(database)"
   ]
  },
  {
   "cell_type": "code",
   "execution_count": 7,
   "metadata": {},
   "outputs": [],
   "source": [
    "stocks = pd.read_sql(sql='Select * from stocks', con=conn)"
   ]
  },
  {
   "cell_type": "code",
   "execution_count": 8,
   "metadata": {},
   "outputs": [
    {
     "output_type": "execute_result",
     "data": {
      "text/plain": [
       "                  UPDATE_DATE CURRENCY          FIGI          ISIN  LOT  \\\n",
       "0  2021-06-10 15:18:40.216564      USD  BBG000HLJ7M4  US45867G1013    1   \n",
       "1  2021-06-10 15:18:40.223985      USD  BBG000BDSLD7  US8030542042    1   \n",
       "2  2021-06-10 15:18:40.231109      USD  BBG002293PJ4  US74967X1037    1   \n",
       "3  2021-06-10 15:18:40.238816      USD  BBG000CTQBF3  US8552441094    1   \n",
       "4  2021-06-10 15:18:40.245532      USD  BBG000BPL8G3  US5537771033    1   \n",
       "\n",
       "   MIN_PRICE_INCREMENT                   NAME TICKER   TYPE  MIN_QUANTITY  \n",
       "0                 0.01       InterDigItal Inc   IDCC  Stock           NaN  \n",
       "1                 0.01                АДР SAP    SAP  Stock           NaN  \n",
       "2                 0.01                     RH     RH  Stock           NaN  \n",
       "3                 0.01  Starbucks Corporation   SBUX  Stock           NaN  \n",
       "4                 0.01       MTS Systems Corp   MTSC  Stock           NaN  "
      ],
      "text/html": "<div>\n<style scoped>\n    .dataframe tbody tr th:only-of-type {\n        vertical-align: middle;\n    }\n\n    .dataframe tbody tr th {\n        vertical-align: top;\n    }\n\n    .dataframe thead th {\n        text-align: right;\n    }\n</style>\n<table border=\"1\" class=\"dataframe\">\n  <thead>\n    <tr style=\"text-align: right;\">\n      <th></th>\n      <th>UPDATE_DATE</th>\n      <th>CURRENCY</th>\n      <th>FIGI</th>\n      <th>ISIN</th>\n      <th>LOT</th>\n      <th>MIN_PRICE_INCREMENT</th>\n      <th>NAME</th>\n      <th>TICKER</th>\n      <th>TYPE</th>\n      <th>MIN_QUANTITY</th>\n    </tr>\n  </thead>\n  <tbody>\n    <tr>\n      <th>0</th>\n      <td>2021-06-10 15:18:40.216564</td>\n      <td>USD</td>\n      <td>BBG000HLJ7M4</td>\n      <td>US45867G1013</td>\n      <td>1</td>\n      <td>0.01</td>\n      <td>InterDigItal Inc</td>\n      <td>IDCC</td>\n      <td>Stock</td>\n      <td>NaN</td>\n    </tr>\n    <tr>\n      <th>1</th>\n      <td>2021-06-10 15:18:40.223985</td>\n      <td>USD</td>\n      <td>BBG000BDSLD7</td>\n      <td>US8030542042</td>\n      <td>1</td>\n      <td>0.01</td>\n      <td>АДР SAP</td>\n      <td>SAP</td>\n      <td>Stock</td>\n      <td>NaN</td>\n    </tr>\n    <tr>\n      <th>2</th>\n      <td>2021-06-10 15:18:40.231109</td>\n      <td>USD</td>\n      <td>BBG002293PJ4</td>\n      <td>US74967X1037</td>\n      <td>1</td>\n      <td>0.01</td>\n      <td>RH</td>\n      <td>RH</td>\n      <td>Stock</td>\n      <td>NaN</td>\n    </tr>\n    <tr>\n      <th>3</th>\n      <td>2021-06-10 15:18:40.238816</td>\n      <td>USD</td>\n      <td>BBG000CTQBF3</td>\n      <td>US8552441094</td>\n      <td>1</td>\n      <td>0.01</td>\n      <td>Starbucks Corporation</td>\n      <td>SBUX</td>\n      <td>Stock</td>\n      <td>NaN</td>\n    </tr>\n    <tr>\n      <th>4</th>\n      <td>2021-06-10 15:18:40.245532</td>\n      <td>USD</td>\n      <td>BBG000BPL8G3</td>\n      <td>US5537771033</td>\n      <td>1</td>\n      <td>0.01</td>\n      <td>MTS Systems Corp</td>\n      <td>MTSC</td>\n      <td>Stock</td>\n      <td>NaN</td>\n    </tr>\n  </tbody>\n</table>\n</div>"
     },
     "metadata": {},
     "execution_count": 8
    }
   ],
   "source": [
    "stocks.head()"
   ]
  },
  {
   "source": [
    "#### Investing.com\n",
    "У сайта есть свой интерфейс по выгрузке данных, с которым можно ознакомится, используя библиотеку investpy. Основной плюс - стабильность работы. API поддерживается бесплатно и официально."
   ],
   "cell_type": "markdown",
   "metadata": {}
  },
  {
   "cell_type": "code",
   "execution_count": 9,
   "metadata": {},
   "outputs": [],
   "source": [
    "i_com_fundamentals_df = investpy.get_stocks()\n",
    "\n",
    "sample = stocks.sample(5)"
   ]
  },
  {
   "source": [
    "Рынок бумаг Тинькоф значительно меньше чем глобальный рынок, что приносит свои проблемы в интерпретации данных, которые можно получить от investing.com. По одному тикеру можно получить сразу несколько позиций, связанных с разными странами, а то и разными компаниями, в то время как в данных от Тинькофф тикеры уникальны. \n",
    "\n",
    "Скорей всего тут есть своя, пока не известная мне специфика, поэтому на текущий момент будут рассматриваться только данные, связанные с бумагами доступными через инструменты Тинькофф."
   ],
   "cell_type": "markdown",
   "metadata": {}
  },
  {
   "cell_type": "code",
   "execution_count": 10,
   "metadata": {},
   "outputs": [
    {
     "output_type": "stream",
     "name": "stdout",
     "text": [
      "Ценных бумаг в доступе Тинькофф Инвестиции - 1695 штук\nЦенных бумаг в базе Investing.com - 39952 штук\n"
     ]
    }
   ],
   "source": [
    "print('Ценных бумаг в доступе Тинькофф Инвестиции - {0} штук'.format(len(stocks)))\n",
    "print('Ценных бумаг в базе Investing.com - {0} штук'.format(len(i_com_fundamentals_df)))"
   ]
  },
  {
   "source": [
    "i_com_fundamentals_df.merge(sample, how = 'inner', left_on = ['currency', 'symbol'], right_on = ['CURRENCY', 'TICKER'])"
   ],
   "cell_type": "code",
   "metadata": {},
   "execution_count": 11,
   "outputs": [
    {
     "output_type": "execute_result",
     "data": {
      "text/plain": [
       "         country            name                           full_name  \\\n",
       "0  united states     Abbott Labs                 Abbott Laboratories   \n",
       "1  united states  John Bean Tech  John Bean Technologies Corporation   \n",
       "2  united states  Prestige Brand         Prestige Brand Holdings Inc   \n",
       "3  united states            Lear                    Lear Corporation   \n",
       "4  united states       CoreLogic                       Corelogic Inc   \n",
       "\n",
       "           isin currency symbol                 UPDATE_DATE CURRENCY  \\\n",
       "0  US0028241000      USD    ABT  2021-06-10 15:18:53.905824      USD   \n",
       "1  US4778391049      USD    JBT  2021-06-10 15:18:53.753336      USD   \n",
       "2  US74112D1019      USD    PBH  2021-06-10 15:18:44.011135      USD   \n",
       "3  US5218652049      USD    LEA  2021-06-10 15:18:45.836699      USD   \n",
       "4  US21871D1037      USD   CLGX  2021-06-10 15:18:55.522599      USD   \n",
       "\n",
       "           FIGI          ISIN  LOT  MIN_PRICE_INCREMENT  \\\n",
       "0  BBG000B9ZXB4  US0028241000    1                 0.01   \n",
       "1  BBG000VLBCQ1  US4778391049    1                 0.01   \n",
       "2  BBG000QM0RZ4  US74112D1019    1                 0.01   \n",
       "3  BBG000PTLGZ1  US5218652049    1                 0.01   \n",
       "4  BBG000C2H3F0  US21871D1037    1                 0.01   \n",
       "\n",
       "                             NAME TICKER   TYPE  MIN_QUANTITY  \n",
       "0                          Abbott    ABT  Stock           NaN  \n",
       "1          John Bean Technologies    JBT  Stock           NaN  \n",
       "2  Prestige Consumer Healthcare I    PBH  Stock           NaN  \n",
       "3                       Lear Corp    LEA  Stock           NaN  \n",
       "4     CoreLogic Inc United States   CLGX  Stock           NaN  "
      ],
      "text/html": "<div>\n<style scoped>\n    .dataframe tbody tr th:only-of-type {\n        vertical-align: middle;\n    }\n\n    .dataframe tbody tr th {\n        vertical-align: top;\n    }\n\n    .dataframe thead th {\n        text-align: right;\n    }\n</style>\n<table border=\"1\" class=\"dataframe\">\n  <thead>\n    <tr style=\"text-align: right;\">\n      <th></th>\n      <th>country</th>\n      <th>name</th>\n      <th>full_name</th>\n      <th>isin</th>\n      <th>currency</th>\n      <th>symbol</th>\n      <th>UPDATE_DATE</th>\n      <th>CURRENCY</th>\n      <th>FIGI</th>\n      <th>ISIN</th>\n      <th>LOT</th>\n      <th>MIN_PRICE_INCREMENT</th>\n      <th>NAME</th>\n      <th>TICKER</th>\n      <th>TYPE</th>\n      <th>MIN_QUANTITY</th>\n    </tr>\n  </thead>\n  <tbody>\n    <tr>\n      <th>0</th>\n      <td>united states</td>\n      <td>Abbott Labs</td>\n      <td>Abbott Laboratories</td>\n      <td>US0028241000</td>\n      <td>USD</td>\n      <td>ABT</td>\n      <td>2021-06-10 15:18:53.905824</td>\n      <td>USD</td>\n      <td>BBG000B9ZXB4</td>\n      <td>US0028241000</td>\n      <td>1</td>\n      <td>0.01</td>\n      <td>Abbott</td>\n      <td>ABT</td>\n      <td>Stock</td>\n      <td>NaN</td>\n    </tr>\n    <tr>\n      <th>1</th>\n      <td>united states</td>\n      <td>John Bean Tech</td>\n      <td>John Bean Technologies Corporation</td>\n      <td>US4778391049</td>\n      <td>USD</td>\n      <td>JBT</td>\n      <td>2021-06-10 15:18:53.753336</td>\n      <td>USD</td>\n      <td>BBG000VLBCQ1</td>\n      <td>US4778391049</td>\n      <td>1</td>\n      <td>0.01</td>\n      <td>John Bean Technologies</td>\n      <td>JBT</td>\n      <td>Stock</td>\n      <td>NaN</td>\n    </tr>\n    <tr>\n      <th>2</th>\n      <td>united states</td>\n      <td>Prestige Brand</td>\n      <td>Prestige Brand Holdings Inc</td>\n      <td>US74112D1019</td>\n      <td>USD</td>\n      <td>PBH</td>\n      <td>2021-06-10 15:18:44.011135</td>\n      <td>USD</td>\n      <td>BBG000QM0RZ4</td>\n      <td>US74112D1019</td>\n      <td>1</td>\n      <td>0.01</td>\n      <td>Prestige Consumer Healthcare I</td>\n      <td>PBH</td>\n      <td>Stock</td>\n      <td>NaN</td>\n    </tr>\n    <tr>\n      <th>3</th>\n      <td>united states</td>\n      <td>Lear</td>\n      <td>Lear Corporation</td>\n      <td>US5218652049</td>\n      <td>USD</td>\n      <td>LEA</td>\n      <td>2021-06-10 15:18:45.836699</td>\n      <td>USD</td>\n      <td>BBG000PTLGZ1</td>\n      <td>US5218652049</td>\n      <td>1</td>\n      <td>0.01</td>\n      <td>Lear Corp</td>\n      <td>LEA</td>\n      <td>Stock</td>\n      <td>NaN</td>\n    </tr>\n    <tr>\n      <th>4</th>\n      <td>united states</td>\n      <td>CoreLogic</td>\n      <td>Corelogic Inc</td>\n      <td>US21871D1037</td>\n      <td>USD</td>\n      <td>CLGX</td>\n      <td>2021-06-10 15:18:55.522599</td>\n      <td>USD</td>\n      <td>BBG000C2H3F0</td>\n      <td>US21871D1037</td>\n      <td>1</td>\n      <td>0.01</td>\n      <td>CoreLogic Inc United States</td>\n      <td>CLGX</td>\n      <td>Stock</td>\n      <td>NaN</td>\n    </tr>\n  </tbody>\n</table>\n</div>"
     },
     "metadata": {},
     "execution_count": 11
    }
   ]
  },
  {
   "cell_type": "code",
   "execution_count": null,
   "metadata": {},
   "outputs": [],
   "source": [
    "i_com_fundamentals_df.merge(sample, how = 'inner', left_on = ['currency', 'symbol'], right_on = ['CURRENCY', 'TICKER'])"
   ]
  },
  {
   "cell_type": "code",
   "execution_count": 12,
   "metadata": {},
   "outputs": [
    {
     "output_type": "execute_result",
     "data": {
      "text/plain": [
       "             country                              name  \\\n",
       "1091          canada                 Absolute Software   \n",
       "1312          canada                    Premium Brands   \n",
       "2836          mexico                       Abbott Labs   \n",
       "3074          mexico                              Lear   \n",
       "3609   united states                       Abbott Labs   \n",
       "5211   united states                    John Bean Tech   \n",
       "5219   united states                    Prestige Brand   \n",
       "7589   united states                              Lear   \n",
       "7600   united states                         CoreLogic   \n",
       "10354        germany                         CoreLogic   \n",
       "10381        germany                              Lear   \n",
       "10628        germany                       Abbott Labs   \n",
       "15056    switzerland                       Abbott Labs   \n",
       "17986      australia                Pointsbet Holdings   \n",
       "36265        vietnam  Bentre Aquaproduct Import Export   \n",
       "\n",
       "                                      full_name          isin currency symbol  \n",
       "1091              Absolute Software Corporation  CA00386B1094      CAD    ABT  \n",
       "1312        Premium Brands Holdings Corporation  CA74061A1084      CAD    PBH  \n",
       "2836                        Abbott Laboratories  US0028241000      MXN    ABT  \n",
       "3074                                  Lear Corp  US5218652049      MXN    LEA  \n",
       "3609                        Abbott Laboratories  US0028241000      USD    ABT  \n",
       "5211         John Bean Technologies Corporation  US4778391049      USD    JBT  \n",
       "5219                Prestige Brand Holdings Inc  US74112D1019      USD    PBH  \n",
       "7589                           Lear Corporation  US5218652049      USD    LEA  \n",
       "7600                              Corelogic Inc  US21871D1037      USD   CLGX  \n",
       "10354                             Corelogic Inc  US21871D1037      EUR   CLGX  \n",
       "10381                              Lear Corp SG  US5218652049      EUR    LEA  \n",
       "10628                       Abbott Laboratories  US0028241000      EUR    ABT  \n",
       "15056                       Abbott Laboratories  US0028241000      CHF    ABT  \n",
       "17986                    Pointsbet Holdings Ltd  AU0000047797      AUD    PBH  \n",
       "36265  Bentre Aquaproduct Import and Export JSC  VN000000ABT2      VND    ABT  "
      ],
      "text/html": "<div>\n<style scoped>\n    .dataframe tbody tr th:only-of-type {\n        vertical-align: middle;\n    }\n\n    .dataframe tbody tr th {\n        vertical-align: top;\n    }\n\n    .dataframe thead th {\n        text-align: right;\n    }\n</style>\n<table border=\"1\" class=\"dataframe\">\n  <thead>\n    <tr style=\"text-align: right;\">\n      <th></th>\n      <th>country</th>\n      <th>name</th>\n      <th>full_name</th>\n      <th>isin</th>\n      <th>currency</th>\n      <th>symbol</th>\n    </tr>\n  </thead>\n  <tbody>\n    <tr>\n      <th>1091</th>\n      <td>canada</td>\n      <td>Absolute Software</td>\n      <td>Absolute Software Corporation</td>\n      <td>CA00386B1094</td>\n      <td>CAD</td>\n      <td>ABT</td>\n    </tr>\n    <tr>\n      <th>1312</th>\n      <td>canada</td>\n      <td>Premium Brands</td>\n      <td>Premium Brands Holdings Corporation</td>\n      <td>CA74061A1084</td>\n      <td>CAD</td>\n      <td>PBH</td>\n    </tr>\n    <tr>\n      <th>2836</th>\n      <td>mexico</td>\n      <td>Abbott Labs</td>\n      <td>Abbott Laboratories</td>\n      <td>US0028241000</td>\n      <td>MXN</td>\n      <td>ABT</td>\n    </tr>\n    <tr>\n      <th>3074</th>\n      <td>mexico</td>\n      <td>Lear</td>\n      <td>Lear Corp</td>\n      <td>US5218652049</td>\n      <td>MXN</td>\n      <td>LEA</td>\n    </tr>\n    <tr>\n      <th>3609</th>\n      <td>united states</td>\n      <td>Abbott Labs</td>\n      <td>Abbott Laboratories</td>\n      <td>US0028241000</td>\n      <td>USD</td>\n      <td>ABT</td>\n    </tr>\n    <tr>\n      <th>5211</th>\n      <td>united states</td>\n      <td>John Bean Tech</td>\n      <td>John Bean Technologies Corporation</td>\n      <td>US4778391049</td>\n      <td>USD</td>\n      <td>JBT</td>\n    </tr>\n    <tr>\n      <th>5219</th>\n      <td>united states</td>\n      <td>Prestige Brand</td>\n      <td>Prestige Brand Holdings Inc</td>\n      <td>US74112D1019</td>\n      <td>USD</td>\n      <td>PBH</td>\n    </tr>\n    <tr>\n      <th>7589</th>\n      <td>united states</td>\n      <td>Lear</td>\n      <td>Lear Corporation</td>\n      <td>US5218652049</td>\n      <td>USD</td>\n      <td>LEA</td>\n    </tr>\n    <tr>\n      <th>7600</th>\n      <td>united states</td>\n      <td>CoreLogic</td>\n      <td>Corelogic Inc</td>\n      <td>US21871D1037</td>\n      <td>USD</td>\n      <td>CLGX</td>\n    </tr>\n    <tr>\n      <th>10354</th>\n      <td>germany</td>\n      <td>CoreLogic</td>\n      <td>Corelogic Inc</td>\n      <td>US21871D1037</td>\n      <td>EUR</td>\n      <td>CLGX</td>\n    </tr>\n    <tr>\n      <th>10381</th>\n      <td>germany</td>\n      <td>Lear</td>\n      <td>Lear Corp SG</td>\n      <td>US5218652049</td>\n      <td>EUR</td>\n      <td>LEA</td>\n    </tr>\n    <tr>\n      <th>10628</th>\n      <td>germany</td>\n      <td>Abbott Labs</td>\n      <td>Abbott Laboratories</td>\n      <td>US0028241000</td>\n      <td>EUR</td>\n      <td>ABT</td>\n    </tr>\n    <tr>\n      <th>15056</th>\n      <td>switzerland</td>\n      <td>Abbott Labs</td>\n      <td>Abbott Laboratories</td>\n      <td>US0028241000</td>\n      <td>CHF</td>\n      <td>ABT</td>\n    </tr>\n    <tr>\n      <th>17986</th>\n      <td>australia</td>\n      <td>Pointsbet Holdings</td>\n      <td>Pointsbet Holdings Ltd</td>\n      <td>AU0000047797</td>\n      <td>AUD</td>\n      <td>PBH</td>\n    </tr>\n    <tr>\n      <th>36265</th>\n      <td>vietnam</td>\n      <td>Bentre Aquaproduct Import Export</td>\n      <td>Bentre Aquaproduct Import and Export JSC</td>\n      <td>VN000000ABT2</td>\n      <td>VND</td>\n      <td>ABT</td>\n    </tr>\n  </tbody>\n</table>\n</div>"
     },
     "metadata": {},
     "execution_count": 12
    }
   ],
   "source": [
    "i_com_fundamentals_df[i_com_fundamentals_df['symbol'].isin(sample['TICKER'])]"
   ]
  },
  {
   "source": [
    "Через данный сервис также можно получать информацию об исторических продажах, что однако ограничено дневными, недельными и месячными срезами, в отличии от двух других источников."
   ],
   "cell_type": "markdown",
   "metadata": {}
  },
  {
   "cell_type": "code",
   "execution_count": 14,
   "metadata": {},
   "outputs": [],
   "source": [
    "appl_daily_df = investpy.get_stock_historical_data(stock='AAPL',\n",
    "                                        country='United States',\n",
    "                                        from_date='01/01/2010',\n",
    "                                        to_date='01/01/2020', interval='Daily')"
   ]
  },
  {
   "cell_type": "code",
   "execution_count": 15,
   "metadata": {},
   "outputs": [
    {
     "output_type": "execute_result",
     "data": {
      "text/plain": [
       "            Open  High   Low  Close     Volume Currency\n",
       "Date                                                   \n",
       "2010-01-04  7.62  7.66  7.58   7.64  493728704      USD\n",
       "2010-01-05  7.66  7.70  7.62   7.66  601904640      USD\n",
       "2010-01-06  7.66  7.69  7.53   7.53  552158912      USD\n",
       "2010-01-07  7.56  7.57  7.47   7.52  477129760      USD\n",
       "2010-01-08  7.51  7.57  7.47   7.57  447876768      USD"
      ],
      "text/html": "<div>\n<style scoped>\n    .dataframe tbody tr th:only-of-type {\n        vertical-align: middle;\n    }\n\n    .dataframe tbody tr th {\n        vertical-align: top;\n    }\n\n    .dataframe thead th {\n        text-align: right;\n    }\n</style>\n<table border=\"1\" class=\"dataframe\">\n  <thead>\n    <tr style=\"text-align: right;\">\n      <th></th>\n      <th>Open</th>\n      <th>High</th>\n      <th>Low</th>\n      <th>Close</th>\n      <th>Volume</th>\n      <th>Currency</th>\n    </tr>\n    <tr>\n      <th>Date</th>\n      <th></th>\n      <th></th>\n      <th></th>\n      <th></th>\n      <th></th>\n      <th></th>\n    </tr>\n  </thead>\n  <tbody>\n    <tr>\n      <th>2010-01-04</th>\n      <td>7.62</td>\n      <td>7.66</td>\n      <td>7.58</td>\n      <td>7.64</td>\n      <td>493728704</td>\n      <td>USD</td>\n    </tr>\n    <tr>\n      <th>2010-01-05</th>\n      <td>7.66</td>\n      <td>7.70</td>\n      <td>7.62</td>\n      <td>7.66</td>\n      <td>601904640</td>\n      <td>USD</td>\n    </tr>\n    <tr>\n      <th>2010-01-06</th>\n      <td>7.66</td>\n      <td>7.69</td>\n      <td>7.53</td>\n      <td>7.53</td>\n      <td>552158912</td>\n      <td>USD</td>\n    </tr>\n    <tr>\n      <th>2010-01-07</th>\n      <td>7.56</td>\n      <td>7.57</td>\n      <td>7.47</td>\n      <td>7.52</td>\n      <td>477129760</td>\n      <td>USD</td>\n    </tr>\n    <tr>\n      <th>2010-01-08</th>\n      <td>7.51</td>\n      <td>7.57</td>\n      <td>7.47</td>\n      <td>7.57</td>\n      <td>447876768</td>\n      <td>USD</td>\n    </tr>\n  </tbody>\n</table>\n</div>"
     },
     "metadata": {},
     "execution_count": 15
    }
   ],
   "source": [
    "appl_daily_df.head()"
   ]
  },
  {
   "source": [
    "#### Yahoo Finance API\n",
    "Позволяет получить информацию используя данные сайта Yahoo Finance. Существуют как платные, так и бесплатные инструментарии для работы с эти API. Для ограниченной выгрузки данных можно использовать бесплатный, одним из которых является библиотека yfinance"
   ],
   "cell_type": "markdown",
   "metadata": {}
  },
  {
   "cell_type": "code",
   "execution_count": 16,
   "metadata": {},
   "outputs": [],
   "source": [
    "aapl = yf.Ticker('aapl')"
   ]
  },
  {
   "cell_type": "code",
   "execution_count": 17,
   "metadata": {},
   "outputs": [
    {
     "output_type": "execute_result",
     "data": {
      "text/plain": [
       "{'zip': '95014',\n",
       " 'sector': 'Technology',\n",
       " 'fullTimeEmployees': 100000,\n",
       " 'longBusinessSummary': 'Apple Inc. designs, manufactures, and markets smartphones, personal computers, tablets, wearables, and accessories worldwide. It also sells various related services. The company offers iPhone, a line of smartphones; Mac, a line of personal computers; iPad, a line of multi-purpose tablets; and wearables, home, and accessories comprising AirPods, Apple TV, Apple Watch, Beats products, HomePod, iPod touch, and other Apple-branded and third-party accessories. It also provides AppleCare support services; cloud services store services; and operates various platforms, including the App Store, that allow customers to discover and download applications and digital content, such as books, music, video, games, and podcasts. In addition, the company offers various services, such as Apple Arcade, a game subscription service; Apple Music, which offers users a curated listening experience with on-demand radio stations; Apple News+, a subscription news and magazine service; Apple TV+, which offers exclusive original content; Apple Card, a co-branded credit card; and Apple Pay, a cashless payment service, as well as licenses its intellectual property. The company serves consumers, and small and mid-sized businesses; and the education, enterprise, and government markets. It sells and delivers third-party applications for its products through the App Store. The company also sells its products through its retail and online stores, and direct sales force; and third-party cellular network carriers, wholesalers, retailers, and resellers. Apple Inc. was founded in 1977 and is headquartered in Cupertino, California.',\n",
       " 'city': 'Cupertino',\n",
       " 'phone': '408-996-1010',\n",
       " 'state': 'CA',\n",
       " 'country': 'United States',\n",
       " 'companyOfficers': [],\n",
       " 'website': 'http://www.apple.com',\n",
       " 'maxAge': 1,\n",
       " 'address1': 'One Apple Park Way',\n",
       " 'industry': 'Consumer Electronics',\n",
       " 'previousClose': 131.79,\n",
       " 'regularMarketOpen': 130.71,\n",
       " 'twoHundredDayAverage': 128.37985,\n",
       " 'trailingAnnualDividendYield': 0.0062220204,\n",
       " 'payoutRatio': 0.1834,\n",
       " 'volume24Hr': None,\n",
       " 'regularMarketDayHigh': 131.51,\n",
       " 'navPrice': None,\n",
       " 'averageDailyVolume10Day': 75682314,\n",
       " 'totalAssets': None,\n",
       " 'regularMarketPreviousClose': 131.79,\n",
       " 'fiftyDayAverage': 127.09412,\n",
       " 'trailingAnnualDividendRate': 0.82,\n",
       " 'open': 130.71,\n",
       " 'toCurrency': None,\n",
       " 'averageVolume10days': 75682314,\n",
       " 'expireDate': None,\n",
       " 'yield': None,\n",
       " 'algorithm': None,\n",
       " 'dividendRate': 0.88,\n",
       " 'exDividendDate': 1620345600,\n",
       " 'beta': 1.208152,\n",
       " 'circulatingSupply': None,\n",
       " 'startDate': None,\n",
       " 'regularMarketDayLow': 130.25,\n",
       " 'priceHint': 2,\n",
       " 'currency': 'USD',\n",
       " 'trailingPE': 29.323446,\n",
       " 'regularMarketVolume': 108953309,\n",
       " 'lastMarket': None,\n",
       " 'maxSupply': None,\n",
       " 'openInterest': None,\n",
       " 'marketCap': 2177064370176,\n",
       " 'volumeAllCurrencies': None,\n",
       " 'strikePrice': None,\n",
       " 'averageVolume': 87532296,\n",
       " 'priceToSalesTrailing12Months': 6.690302,\n",
       " 'dayLow': 130.25,\n",
       " 'ask': 130.2,\n",
       " 'ytdReturn': None,\n",
       " 'askSize': 900,\n",
       " 'volume': 108953309,\n",
       " 'fiftyTwoWeekHigh': 145.09,\n",
       " 'forwardPE': 24.385048,\n",
       " 'fromCurrency': None,\n",
       " 'fiveYearAvgDividendYield': 1.34,\n",
       " 'fiftyTwoWeekLow': 87.7875,\n",
       " 'bid': 130.18,\n",
       " 'tradeable': False,\n",
       " 'dividendYield': 0.0068,\n",
       " 'bidSize': 1300,\n",
       " 'dayHigh': 131.51,\n",
       " 'exchange': 'NMS',\n",
       " 'shortName': 'Apple Inc.',\n",
       " 'longName': 'Apple Inc.',\n",
       " 'exchangeTimezoneName': 'America/New_York',\n",
       " 'exchangeTimezoneShortName': 'EDT',\n",
       " 'isEsgPopulated': False,\n",
       " 'gmtOffSetMilliseconds': '-14400000',\n",
       " 'quoteType': 'EQUITY',\n",
       " 'symbol': 'AAPL',\n",
       " 'messageBoardId': 'finmb_24937',\n",
       " 'market': 'us_market',\n",
       " 'annualHoldingsTurnover': None,\n",
       " 'enterpriseToRevenue': 6.874,\n",
       " 'beta3Year': None,\n",
       " 'profitMargins': 0.23451,\n",
       " 'enterpriseToEbitda': 22.408,\n",
       " '52WeekChange': 0.4689442,\n",
       " 'morningStarRiskRating': None,\n",
       " 'forwardEps': 5.35,\n",
       " 'revenueQuarterlyGrowth': None,\n",
       " 'sharesOutstanding': 16687599616,\n",
       " 'fundInceptionDate': None,\n",
       " 'annualReportExpenseRatio': None,\n",
       " 'bookValue': 4.146,\n",
       " 'sharesShort': 123121920,\n",
       " 'sharesPercentSharesOut': 0.0074,\n",
       " 'fundFamily': None,\n",
       " 'lastFiscalYearEnd': 1601078400,\n",
       " 'heldPercentInstitutions': 0.58687997,\n",
       " 'netIncomeToCommon': 76311003136,\n",
       " 'trailingEps': 4.449,\n",
       " 'lastDividendValue': 0.22,\n",
       " 'SandP52WeekChange': 0.35408902,\n",
       " 'priceToBook': 31.466476,\n",
       " 'heldPercentInsiders': 0.00066,\n",
       " 'nextFiscalYearEnd': 1664150400,\n",
       " 'mostRecentQuarter': 1616803200,\n",
       " 'shortRatio': 1.36,\n",
       " 'sharesShortPreviousMonthDate': 1619740800,\n",
       " 'floatShares': 16670609616,\n",
       " 'enterpriseValue': 2236806070272,\n",
       " 'threeYearAverageReturn': None,\n",
       " 'lastSplitDate': 1598832000,\n",
       " 'lastSplitFactor': '4:1',\n",
       " 'legalType': None,\n",
       " 'lastDividendDate': 1620345600,\n",
       " 'morningStarOverallRating': None,\n",
       " 'earningsQuarterlyGrowth': 1.101,\n",
       " 'dateShortInterest': 1622160000,\n",
       " 'pegRatio': 1.45,\n",
       " 'lastCapGain': None,\n",
       " 'shortPercentOfFloat': 0.0074,\n",
       " 'sharesShortPriorMonth': 82710348,\n",
       " 'impliedSharesOutstanding': None,\n",
       " 'category': None,\n",
       " 'fiveYearAverageReturn': None,\n",
       " 'regularMarketPrice': 130.46,\n",
       " 'logo_url': 'https://logo.clearbit.com/apple.com'}"
      ]
     },
     "metadata": {},
     "execution_count": 17
    }
   ],
   "source": [
    "aapl.info"
   ]
  },
  {
   "cell_type": "code",
   "execution_count": 18,
   "metadata": {},
   "outputs": [
    {
     "output_type": "execute_result",
     "data": {
      "text/plain": [
       "                                 Open        High         Low       Close  \\\n",
       "2021-06-02 09:30:00-04:00  124.519997  125.190002  124.220001  125.084999   \n",
       "2021-06-02 10:30:00-04:00  125.079697  125.239998  124.650002  124.970001   \n",
       "2021-06-02 11:30:00-04:00  124.970001  125.180000  124.620003  124.706802   \n",
       "2021-06-02 12:30:00-04:00  124.705002  124.709999  124.070000  124.195000   \n",
       "2021-06-02 13:30:00-04:00  124.199997  124.510002  124.050003  124.480003   \n",
       "2021-06-02 14:30:00-04:00  124.485001  124.794998  124.410004  124.785004   \n",
       "2021-06-02 15:30:00-04:00  124.790001  125.168999  124.660004  125.089996   \n",
       "\n",
       "                             Volume  Dividends  Stock Splits  \n",
       "2021-06-02 09:30:00-04:00  16148036          0             0  \n",
       "2021-06-02 10:30:00-04:00   8434366          0             0  \n",
       "2021-06-02 11:30:00-04:00   5315912          0             0  \n",
       "2021-06-02 12:30:00-04:00   5513431          0             0  \n",
       "2021-06-02 13:30:00-04:00   5447741          0             0  \n",
       "2021-06-02 14:30:00-04:00   5563554          0             0  \n",
       "2021-06-02 15:30:00-04:00   6289304          0             0  "
      ],
      "text/html": "<div>\n<style scoped>\n    .dataframe tbody tr th:only-of-type {\n        vertical-align: middle;\n    }\n\n    .dataframe tbody tr th {\n        vertical-align: top;\n    }\n\n    .dataframe thead th {\n        text-align: right;\n    }\n</style>\n<table border=\"1\" class=\"dataframe\">\n  <thead>\n    <tr style=\"text-align: right;\">\n      <th></th>\n      <th>Open</th>\n      <th>High</th>\n      <th>Low</th>\n      <th>Close</th>\n      <th>Volume</th>\n      <th>Dividends</th>\n      <th>Stock Splits</th>\n    </tr>\n  </thead>\n  <tbody>\n    <tr>\n      <th>2021-06-02 09:30:00-04:00</th>\n      <td>124.519997</td>\n      <td>125.190002</td>\n      <td>124.220001</td>\n      <td>125.084999</td>\n      <td>16148036</td>\n      <td>0</td>\n      <td>0</td>\n    </tr>\n    <tr>\n      <th>2021-06-02 10:30:00-04:00</th>\n      <td>125.079697</td>\n      <td>125.239998</td>\n      <td>124.650002</td>\n      <td>124.970001</td>\n      <td>8434366</td>\n      <td>0</td>\n      <td>0</td>\n    </tr>\n    <tr>\n      <th>2021-06-02 11:30:00-04:00</th>\n      <td>124.970001</td>\n      <td>125.180000</td>\n      <td>124.620003</td>\n      <td>124.706802</td>\n      <td>5315912</td>\n      <td>0</td>\n      <td>0</td>\n    </tr>\n    <tr>\n      <th>2021-06-02 12:30:00-04:00</th>\n      <td>124.705002</td>\n      <td>124.709999</td>\n      <td>124.070000</td>\n      <td>124.195000</td>\n      <td>5513431</td>\n      <td>0</td>\n      <td>0</td>\n    </tr>\n    <tr>\n      <th>2021-06-02 13:30:00-04:00</th>\n      <td>124.199997</td>\n      <td>124.510002</td>\n      <td>124.050003</td>\n      <td>124.480003</td>\n      <td>5447741</td>\n      <td>0</td>\n      <td>0</td>\n    </tr>\n    <tr>\n      <th>2021-06-02 14:30:00-04:00</th>\n      <td>124.485001</td>\n      <td>124.794998</td>\n      <td>124.410004</td>\n      <td>124.785004</td>\n      <td>5563554</td>\n      <td>0</td>\n      <td>0</td>\n    </tr>\n    <tr>\n      <th>2021-06-02 15:30:00-04:00</th>\n      <td>124.790001</td>\n      <td>125.168999</td>\n      <td>124.660004</td>\n      <td>125.089996</td>\n      <td>6289304</td>\n      <td>0</td>\n      <td>0</td>\n    </tr>\n  </tbody>\n</table>\n</div>"
     },
     "metadata": {},
     "execution_count": 18
    }
   ],
   "source": [
    "aapl.history(\n",
    "    interval='1h', \n",
    "    start=\"2021-06-02\", \n",
    "    end= \"2021-06-03\"\n",
    ")"
   ]
  },
  {
   "source": [
    "Основная проблема данного источника - в его содержимом под капотом. Данная библиотека использует скрапинг данных с сайта, изменение в структуре которого могут привести к неадекватной работе сервиса."
   ],
   "cell_type": "markdown",
   "metadata": {}
  },
  {
   "source": [
    "### Подитог\n",
    "- Исторические данные-свечки использовальзуются от сервиса Tinkoff Инвестиции, так как несмотря на ограничения запросов, его данные наиболее соответсвуют продажам через российских брокеров и могут рассматривать часовые данные. \n",
    "- Справочные данные будут использоваться от сервиса yahoo finance, наиболее \"богатый\" на информацию из рассмотренных источников\n",
    "- Период исторических данных - 1 год, с 01.06.2020 по 31.05.2021"
   ],
   "cell_type": "markdown",
   "metadata": {}
  },
  {
   "cell_type": "code",
   "execution_count": null,
   "metadata": {},
   "outputs": [],
   "source": []
  }
 ]
}