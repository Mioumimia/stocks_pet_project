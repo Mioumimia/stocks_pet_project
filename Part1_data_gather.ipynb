{
 "metadata": {
  "language_info": {
   "codemirror_mode": {
    "name": "ipython",
    "version": 3
   },
   "file_extension": ".py",
   "mimetype": "text/x-python",
   "name": "python",
   "nbconvert_exporter": "python",
   "pygments_lexer": "ipython3",
   "version": "3.8.5"
  },
  "orig_nbformat": 4,
  "kernelspec": {
   "name": "python3",
   "display_name": "Python 3.8.5  ('venv': venv)"
  },
  "interpreter": {
   "hash": "4cf1ba95ec52110a96dbe7f48f91a58bfcd92c69a8de7bf5568b0e8895fda5bc"
  }
 },
 "nbformat": 4,
 "nbformat_minor": 2,
 "cells": [
  {
   "cell_type": "code",
   "execution_count": 1,
   "metadata": {},
   "outputs": [],
   "source": [
    "import pandas as pd\n",
    "import tinvest as ti\n",
    "from tinvest import CandleResolution\n",
    "from tinvest import TooManyRequestsError, UnexpectedError\n",
    "\n",
    "from threading import Thread\n",
    "from tqdm.notebook import tqdm\n",
    "\n",
    "import os\n",
    "import datetime as dt\n",
    "import time\n",
    "\n",
    "import sqlite3\n",
    "import investpy\n",
    "import yfinance as yf"
   ]
  },
  {
   "cell_type": "code",
   "execution_count": 2,
   "metadata": {},
   "outputs": [],
   "source": [
    "pd.options.display.max_columns = 150"
   ]
  },
  {
   "source": [
    "### Источники данных\n",
    "Рассматривалось использование трех основных источников информации об акциях в качестве возможных: \n",
    "- tinvest, SDK для Tinkoff Инвестиции API\n",
    "- investpy, библиотека для использования данных с сайта investing.com\n",
    "- yfinanse, библиотека для и использования yahoo finanse API"
   ],
   "cell_type": "markdown",
   "metadata": {}
  },
  {
   "source": [
    "#### API Tinkoff Инвестиции\n",
    "Акуальная документация соответсвует версии библиотек 3.0 и выше, для которых необходимо использование python версией выше 3.8, поэтому для запуска кода, использующего эту библиотеку необходимо использование указанной версии python.\n",
    "\n",
    "Для использования API необходимо наличие токена, который можно завести в личном кабинете Тинькофф. Ограничения API - 240 операций в секунду на запросы по данным рынка. Для работы с API использовалось неофициальное SDK - tinvest - упомянутое на официальной странице API.\n",
    "\n",
    "Данный источник является основным по историческим данным ежедневных и ежечасовых продаж за последний год. Для устранения необходимости сохранения данных каждый раз используется база данных, взаимодействие с которой осуществляется с помощью sqlite3. Также, в качестве примера данных, в папке лежат данные в файлах tinvest_daily_data.csv и tinvest_stocks_info.xlsx."
   ],
   "cell_type": "markdown",
   "metadata": {}
  },
  {
   "cell_type": "code",
   "execution_count": 26,
   "metadata": {},
   "outputs": [],
   "source": [
    "TOKEN = os.getenv('TINVEST_TOKEN')"
   ]
  },
  {
   "cell_type": "code",
   "execution_count": 27,
   "metadata": {},
   "outputs": [
    {
     "output_type": "display_data",
     "data": {
      "text/plain": "       currency          figi          isin  lot min_price_increment  \\\n0  Currency.usd  BBG000HLJ7M4  US45867G1013    1                0.01   \n1  Currency.usd  BBG000BDSLD7  US8030542042    1                0.01   \n2  Currency.usd  BBG002293PJ4  US74967X1037    1                0.01   \n3  Currency.usd  BBG000CTQBF3  US8552441094    1                0.01   \n4  Currency.usd  BBG000BH0FR6  US81181C1045    1                0.01   \n\n                    name ticker                  type  min_quantity  \n0       InterDigItal Inc   IDCC  InstrumentType.stock           NaN  \n1                АДР SAP    SAP  InstrumentType.stock           NaN  \n2                     RH     RH  InstrumentType.stock           NaN  \n3  Starbucks Corporation   SBUX  InstrumentType.stock           NaN  \n4            Seagen Inc.   SGEN  InstrumentType.stock           NaN  ",
      "text/html": "<div>\n<style scoped>\n    .dataframe tbody tr th:only-of-type {\n        vertical-align: middle;\n    }\n\n    .dataframe tbody tr th {\n        vertical-align: top;\n    }\n\n    .dataframe thead th {\n        text-align: right;\n    }\n</style>\n<table border=\"1\" class=\"dataframe\">\n  <thead>\n    <tr style=\"text-align: right;\">\n      <th></th>\n      <th>currency</th>\n      <th>figi</th>\n      <th>isin</th>\n      <th>lot</th>\n      <th>min_price_increment</th>\n      <th>name</th>\n      <th>ticker</th>\n      <th>type</th>\n      <th>min_quantity</th>\n    </tr>\n  </thead>\n  <tbody>\n    <tr>\n      <th>0</th>\n      <td>Currency.usd</td>\n      <td>BBG000HLJ7M4</td>\n      <td>US45867G1013</td>\n      <td>1</td>\n      <td>0.01</td>\n      <td>InterDigItal Inc</td>\n      <td>IDCC</td>\n      <td>InstrumentType.stock</td>\n      <td>NaN</td>\n    </tr>\n    <tr>\n      <th>1</th>\n      <td>Currency.usd</td>\n      <td>BBG000BDSLD7</td>\n      <td>US8030542042</td>\n      <td>1</td>\n      <td>0.01</td>\n      <td>АДР SAP</td>\n      <td>SAP</td>\n      <td>InstrumentType.stock</td>\n      <td>NaN</td>\n    </tr>\n    <tr>\n      <th>2</th>\n      <td>Currency.usd</td>\n      <td>BBG002293PJ4</td>\n      <td>US74967X1037</td>\n      <td>1</td>\n      <td>0.01</td>\n      <td>RH</td>\n      <td>RH</td>\n      <td>InstrumentType.stock</td>\n      <td>NaN</td>\n    </tr>\n    <tr>\n      <th>3</th>\n      <td>Currency.usd</td>\n      <td>BBG000CTQBF3</td>\n      <td>US8552441094</td>\n      <td>1</td>\n      <td>0.01</td>\n      <td>Starbucks Corporation</td>\n      <td>SBUX</td>\n      <td>InstrumentType.stock</td>\n      <td>NaN</td>\n    </tr>\n    <tr>\n      <th>4</th>\n      <td>Currency.usd</td>\n      <td>BBG000BH0FR6</td>\n      <td>US81181C1045</td>\n      <td>1</td>\n      <td>0.01</td>\n      <td>Seagen Inc.</td>\n      <td>SGEN</td>\n      <td>InstrumentType.stock</td>\n      <td>NaN</td>\n    </tr>\n  </tbody>\n</table>\n</div>"
     },
     "metadata": {}
    },
    {
     "output_type": "display_data",
     "data": {
      "text/plain": "       c          figi      h              interval      l      o  \\\n0  74.37  BBG000B9X8C0  75.68  CandleResolution.day  73.86  75.14   \n1  74.91  BBG000B9X8C0  75.25  CandleResolution.day     74  74.38   \n2  76.08  BBG000B9X8C0  76.21  CandleResolution.day  75.08  75.21   \n3  73.99  BBG000B9X8C0   76.5  CandleResolution.day   73.1  75.66   \n4  75.58  BBG000B9X8C0  76.96  CandleResolution.day  74.44  74.96   \n\n                       time       v  \n0 2020-06-01 07:00:00+00:00  293707  \n1 2020-06-02 07:00:00+00:00  283474  \n2 2020-06-03 07:00:00+00:00  408469  \n3 2020-06-04 07:00:00+00:00  282975  \n4 2020-06-05 07:00:00+00:00  411271  ",
      "text/html": "<div>\n<style scoped>\n    .dataframe tbody tr th:only-of-type {\n        vertical-align: middle;\n    }\n\n    .dataframe tbody tr th {\n        vertical-align: top;\n    }\n\n    .dataframe thead th {\n        text-align: right;\n    }\n</style>\n<table border=\"1\" class=\"dataframe\">\n  <thead>\n    <tr style=\"text-align: right;\">\n      <th></th>\n      <th>c</th>\n      <th>figi</th>\n      <th>h</th>\n      <th>interval</th>\n      <th>l</th>\n      <th>o</th>\n      <th>time</th>\n      <th>v</th>\n    </tr>\n  </thead>\n  <tbody>\n    <tr>\n      <th>0</th>\n      <td>74.37</td>\n      <td>BBG000B9X8C0</td>\n      <td>75.68</td>\n      <td>CandleResolution.day</td>\n      <td>73.86</td>\n      <td>75.14</td>\n      <td>2020-06-01 07:00:00+00:00</td>\n      <td>293707</td>\n    </tr>\n    <tr>\n      <th>1</th>\n      <td>74.91</td>\n      <td>BBG000B9X8C0</td>\n      <td>75.25</td>\n      <td>CandleResolution.day</td>\n      <td>74</td>\n      <td>74.38</td>\n      <td>2020-06-02 07:00:00+00:00</td>\n      <td>283474</td>\n    </tr>\n    <tr>\n      <th>2</th>\n      <td>76.08</td>\n      <td>BBG000B9X8C0</td>\n      <td>76.21</td>\n      <td>CandleResolution.day</td>\n      <td>75.08</td>\n      <td>75.21</td>\n      <td>2020-06-03 07:00:00+00:00</td>\n      <td>408469</td>\n    </tr>\n    <tr>\n      <th>3</th>\n      <td>73.99</td>\n      <td>BBG000B9X8C0</td>\n      <td>76.5</td>\n      <td>CandleResolution.day</td>\n      <td>73.1</td>\n      <td>75.66</td>\n      <td>2020-06-04 07:00:00+00:00</td>\n      <td>282975</td>\n    </tr>\n    <tr>\n      <th>4</th>\n      <td>75.58</td>\n      <td>BBG000B9X8C0</td>\n      <td>76.96</td>\n      <td>CandleResolution.day</td>\n      <td>74.44</td>\n      <td>74.96</td>\n      <td>2020-06-05 07:00:00+00:00</td>\n      <td>411271</td>\n    </tr>\n  </tbody>\n</table>\n</div>"
     },
     "metadata": {}
    }
   ],
   "source": [
    "# client = ti.SyncClient(TOKEN)\n",
    "# response = client.get_market_stocks()\n",
    "# result = response.dict()[\"payload\"][\"instruments\"]\n",
    "# candle = client.get_market_candles(\n",
    "#     \"BBG000B9X8C0\",\n",
    "#     \"2020-06-01T00:00:00+03:00\",\n",
    "#     \"2020-06-30T00:00:00+03:00\",\n",
    "#     CandleResolution(\"day\"),\n",
    "# ).dict()[\"payload\"][\"candles\"]\n",
    "\n",
    "# ti_fundamental_df = pd.DataFrame(result)\n",
    "# candle_df = pd.DataFrame(candle)\n",
    "# display(ti_fundamental_df.head())\n",
    "# display(candle_df.head())"
   ]
  },
  {
   "source": [
    "Заполнение БД осуществляется с помощью скриптов в папке db. Из-за ограничения кол-ва запросов их проверять дольше чем остальное, поэтому рекомендую сразу использовать БД при проверке. "
   ],
   "cell_type": "markdown",
   "metadata": {}
  },
  {
   "cell_type": "code",
   "execution_count": 5,
   "metadata": {},
   "outputs": [],
   "source": [
    "def create_connection(db_file):\n",
    "    conn = None\n",
    "    try:\n",
    "        conn = sqlite3.connect(db_file)\n",
    "        print(sqlite3.version)\n",
    "    except Error as e:\n",
    "        print(e)\n",
    "    return conn"
   ]
  },
  {
   "cell_type": "code",
   "execution_count": 6,
   "metadata": {},
   "outputs": [
    {
     "output_type": "stream",
     "name": "stdout",
     "text": [
      "2.6.0\n"
     ]
    }
   ],
   "source": [
    "database = r\"pythonsqlite.db\"\n",
    "conn = create_connection(database)"
   ]
  },
  {
   "cell_type": "code",
   "execution_count": 7,
   "metadata": {},
   "outputs": [],
   "source": [
    "stocks = pd.read_sql(sql='Select * from stocks', con=conn)"
   ]
  },
  {
   "cell_type": "code",
   "execution_count": 10,
   "metadata": {},
   "outputs": [
    {
     "output_type": "execute_result",
     "data": {
      "text/plain": [
       "                  UPDATE_DATE CURRENCY          FIGI          ISIN  LOT  \\\n",
       "0  2021-06-10 15:18:40.216564      USD  BBG000HLJ7M4  US45867G1013    1   \n",
       "1  2021-06-10 15:18:40.223985      USD  BBG000BDSLD7  US8030542042    1   \n",
       "2  2021-06-10 15:18:40.231109      USD  BBG002293PJ4  US74967X1037    1   \n",
       "3  2021-06-10 15:18:40.238816      USD  BBG000CTQBF3  US8552441094    1   \n",
       "4  2021-06-10 15:18:40.245532      USD  BBG000BPL8G3  US5537771033    1   \n",
       "\n",
       "   MIN_PRICE_INCREMENT                   NAME TICKER   TYPE  MIN_QUANTITY  \n",
       "0                 0.01       InterDigItal Inc   IDCC  Stock           NaN  \n",
       "1                 0.01                АДР SAP    SAP  Stock           NaN  \n",
       "2                 0.01                     RH     RH  Stock           NaN  \n",
       "3                 0.01  Starbucks Corporation   SBUX  Stock           NaN  \n",
       "4                 0.01       MTS Systems Corp   MTSC  Stock           NaN  "
      ],
      "text/html": "<div>\n<style scoped>\n    .dataframe tbody tr th:only-of-type {\n        vertical-align: middle;\n    }\n\n    .dataframe tbody tr th {\n        vertical-align: top;\n    }\n\n    .dataframe thead th {\n        text-align: right;\n    }\n</style>\n<table border=\"1\" class=\"dataframe\">\n  <thead>\n    <tr style=\"text-align: right;\">\n      <th></th>\n      <th>UPDATE_DATE</th>\n      <th>CURRENCY</th>\n      <th>FIGI</th>\n      <th>ISIN</th>\n      <th>LOT</th>\n      <th>MIN_PRICE_INCREMENT</th>\n      <th>NAME</th>\n      <th>TICKER</th>\n      <th>TYPE</th>\n      <th>MIN_QUANTITY</th>\n    </tr>\n  </thead>\n  <tbody>\n    <tr>\n      <th>0</th>\n      <td>2021-06-10 15:18:40.216564</td>\n      <td>USD</td>\n      <td>BBG000HLJ7M4</td>\n      <td>US45867G1013</td>\n      <td>1</td>\n      <td>0.01</td>\n      <td>InterDigItal Inc</td>\n      <td>IDCC</td>\n      <td>Stock</td>\n      <td>NaN</td>\n    </tr>\n    <tr>\n      <th>1</th>\n      <td>2021-06-10 15:18:40.223985</td>\n      <td>USD</td>\n      <td>BBG000BDSLD7</td>\n      <td>US8030542042</td>\n      <td>1</td>\n      <td>0.01</td>\n      <td>АДР SAP</td>\n      <td>SAP</td>\n      <td>Stock</td>\n      <td>NaN</td>\n    </tr>\n    <tr>\n      <th>2</th>\n      <td>2021-06-10 15:18:40.231109</td>\n      <td>USD</td>\n      <td>BBG002293PJ4</td>\n      <td>US74967X1037</td>\n      <td>1</td>\n      <td>0.01</td>\n      <td>RH</td>\n      <td>RH</td>\n      <td>Stock</td>\n      <td>NaN</td>\n    </tr>\n    <tr>\n      <th>3</th>\n      <td>2021-06-10 15:18:40.238816</td>\n      <td>USD</td>\n      <td>BBG000CTQBF3</td>\n      <td>US8552441094</td>\n      <td>1</td>\n      <td>0.01</td>\n      <td>Starbucks Corporation</td>\n      <td>SBUX</td>\n      <td>Stock</td>\n      <td>NaN</td>\n    </tr>\n    <tr>\n      <th>4</th>\n      <td>2021-06-10 15:18:40.245532</td>\n      <td>USD</td>\n      <td>BBG000BPL8G3</td>\n      <td>US5537771033</td>\n      <td>1</td>\n      <td>0.01</td>\n      <td>MTS Systems Corp</td>\n      <td>MTSC</td>\n      <td>Stock</td>\n      <td>NaN</td>\n    </tr>\n  </tbody>\n</table>\n</div>"
     },
     "metadata": {},
     "execution_count": 10
    }
   ],
   "source": [
    "stocks.head()"
   ]
  },
  {
   "source": [
    "#### Investing.com\n",
    "У сайта есть свой интерфейс по выгрузке данных, с которым можно ознакомится, используя библиотеку investpy. Рассмотрим доступные данные по нескольким бумагам"
   ],
   "cell_type": "markdown",
   "metadata": {}
  },
  {
   "cell_type": "code",
   "execution_count": 16,
   "metadata": {},
   "outputs": [],
   "source": [
    "i_com_fundamentals_df = investpy.get_stocks()\n",
    "\n",
    "sample = stocks.sample(5)"
   ]
  },
  {
   "source": [
    "Рынок бумаг Тинькоф значительно меньше чем глобальный рынок, что приносит свои проблемы в интерпретации данных, которые можно получить от investing.com. По одному тикеру можно получить сразу несколько позиций, связанных с разными странами, а то и разными компаниями. \n",
    "\n",
    "Скорей всего тут есть своя, пока не известная мне специфика, поэтому на текущий момент будут рассматриваться только данные, связанные с бумагами доступными через инструменты Тинькофф."
   ],
   "cell_type": "markdown",
   "metadata": {}
  },
  {
   "cell_type": "code",
   "execution_count": 25,
   "metadata": {},
   "outputs": [
    {
     "output_type": "stream",
     "name": "stdout",
     "text": [
      "Ценных бумаг в доступе Тинькофф Инвестиции - 1695 штук\nЦенных бумаг в базе Investing.com - 39952 штук\n"
     ]
    }
   ],
   "source": [
    "print('Ценных бумаг в доступе Тинькофф Инвестиции - {0} штук'.format(len(stocks)))\n",
    "print('Ценных бумаг в базе Investing.com - {0} штук'.format(len(i_com_fundamentals_df)))"
   ]
  },
  {
   "source": [
    "i_com_fundamentals_df.merge(sample, how = 'inner', left_on = ['currency', 'symbol'], right_on = ['CURRENCY', 'TICKER'])"
   ],
   "cell_type": "code",
   "metadata": {},
   "execution_count": 21,
   "outputs": [
    {
     "output_type": "execute_result",
     "data": {
      "text/plain": [
       "         country          name            full_name          isin currency  \\\n",
       "0          chile       Chevron         Chevron Corp  US1667641005      USD   \n",
       "1  united states       Chevron         Chevron Corp  US1667641005      USD   \n",
       "2        belgium       Chevron  Chevron Corporation  US1667641005      USD   \n",
       "3  united states     Citigroup        Citigroup Inc  US1729674242      USD   \n",
       "4  united states  InterDigital     InterDigital Inc  US45867G1013      USD   \n",
       "5  united states       Fortive         Fortive Corp  US34959J1088      USD   \n",
       "6         russia       MosEnrg              MosEnrg  RU0008958863      RUB   \n",
       "\n",
       "  symbol                 UPDATE_DATE CURRENCY          FIGI          ISIN  \\\n",
       "0    CVX  2021-06-10 15:18:49.270267      USD  BBG000K4ND22  US1667641005   \n",
       "1    CVX  2021-06-10 15:18:49.270267      USD  BBG000K4ND22  US1667641005   \n",
       "2    CVX  2021-06-10 15:18:49.270267      USD  BBG000K4ND22  US1667641005   \n",
       "3      C  2021-06-10 15:18:53.711548      USD  BBG000FY4S11  US1729674242   \n",
       "4   IDCC  2021-06-10 15:18:40.216564      USD  BBG000HLJ7M4  US45867G1013   \n",
       "5    FTV  2021-06-10 15:18:45.509865      USD  BBG00BLVZ228  US34959J1088   \n",
       "6   MSNG  2021-06-10 15:18:47.197084      RUB  BBG004S687W8  RU0008958863   \n",
       "\n",
       "    LOT  MIN_PRICE_INCREMENT              NAME TICKER   TYPE  MIN_QUANTITY  \n",
       "0     1               0.0100           Chevron    CVX  Stock           NaN  \n",
       "1     1               0.0100           Chevron    CVX  Stock           NaN  \n",
       "2     1               0.0100           Chevron    CVX  Stock           NaN  \n",
       "3     1               0.0100         Citigroup      C  Stock           NaN  \n",
       "4     1               0.0100  InterDigItal Inc   IDCC  Stock           NaN  \n",
       "5     1               0.0100           Fortive    FTV  Stock           NaN  \n",
       "6  1000               0.0005         Мосэнерго   MSNG  Stock           NaN  "
      ],
      "text/html": "<div>\n<style scoped>\n    .dataframe tbody tr th:only-of-type {\n        vertical-align: middle;\n    }\n\n    .dataframe tbody tr th {\n        vertical-align: top;\n    }\n\n    .dataframe thead th {\n        text-align: right;\n    }\n</style>\n<table border=\"1\" class=\"dataframe\">\n  <thead>\n    <tr style=\"text-align: right;\">\n      <th></th>\n      <th>country</th>\n      <th>name</th>\n      <th>full_name</th>\n      <th>isin</th>\n      <th>currency</th>\n      <th>symbol</th>\n      <th>UPDATE_DATE</th>\n      <th>CURRENCY</th>\n      <th>FIGI</th>\n      <th>ISIN</th>\n      <th>LOT</th>\n      <th>MIN_PRICE_INCREMENT</th>\n      <th>NAME</th>\n      <th>TICKER</th>\n      <th>TYPE</th>\n      <th>MIN_QUANTITY</th>\n    </tr>\n  </thead>\n  <tbody>\n    <tr>\n      <th>0</th>\n      <td>chile</td>\n      <td>Chevron</td>\n      <td>Chevron Corp</td>\n      <td>US1667641005</td>\n      <td>USD</td>\n      <td>CVX</td>\n      <td>2021-06-10 15:18:49.270267</td>\n      <td>USD</td>\n      <td>BBG000K4ND22</td>\n      <td>US1667641005</td>\n      <td>1</td>\n      <td>0.0100</td>\n      <td>Chevron</td>\n      <td>CVX</td>\n      <td>Stock</td>\n      <td>NaN</td>\n    </tr>\n    <tr>\n      <th>1</th>\n      <td>united states</td>\n      <td>Chevron</td>\n      <td>Chevron Corp</td>\n      <td>US1667641005</td>\n      <td>USD</td>\n      <td>CVX</td>\n      <td>2021-06-10 15:18:49.270267</td>\n      <td>USD</td>\n      <td>BBG000K4ND22</td>\n      <td>US1667641005</td>\n      <td>1</td>\n      <td>0.0100</td>\n      <td>Chevron</td>\n      <td>CVX</td>\n      <td>Stock</td>\n      <td>NaN</td>\n    </tr>\n    <tr>\n      <th>2</th>\n      <td>belgium</td>\n      <td>Chevron</td>\n      <td>Chevron Corporation</td>\n      <td>US1667641005</td>\n      <td>USD</td>\n      <td>CVX</td>\n      <td>2021-06-10 15:18:49.270267</td>\n      <td>USD</td>\n      <td>BBG000K4ND22</td>\n      <td>US1667641005</td>\n      <td>1</td>\n      <td>0.0100</td>\n      <td>Chevron</td>\n      <td>CVX</td>\n      <td>Stock</td>\n      <td>NaN</td>\n    </tr>\n    <tr>\n      <th>3</th>\n      <td>united states</td>\n      <td>Citigroup</td>\n      <td>Citigroup Inc</td>\n      <td>US1729674242</td>\n      <td>USD</td>\n      <td>C</td>\n      <td>2021-06-10 15:18:53.711548</td>\n      <td>USD</td>\n      <td>BBG000FY4S11</td>\n      <td>US1729674242</td>\n      <td>1</td>\n      <td>0.0100</td>\n      <td>Citigroup</td>\n      <td>C</td>\n      <td>Stock</td>\n      <td>NaN</td>\n    </tr>\n    <tr>\n      <th>4</th>\n      <td>united states</td>\n      <td>InterDigital</td>\n      <td>InterDigital Inc</td>\n      <td>US45867G1013</td>\n      <td>USD</td>\n      <td>IDCC</td>\n      <td>2021-06-10 15:18:40.216564</td>\n      <td>USD</td>\n      <td>BBG000HLJ7M4</td>\n      <td>US45867G1013</td>\n      <td>1</td>\n      <td>0.0100</td>\n      <td>InterDigItal Inc</td>\n      <td>IDCC</td>\n      <td>Stock</td>\n      <td>NaN</td>\n    </tr>\n    <tr>\n      <th>5</th>\n      <td>united states</td>\n      <td>Fortive</td>\n      <td>Fortive Corp</td>\n      <td>US34959J1088</td>\n      <td>USD</td>\n      <td>FTV</td>\n      <td>2021-06-10 15:18:45.509865</td>\n      <td>USD</td>\n      <td>BBG00BLVZ228</td>\n      <td>US34959J1088</td>\n      <td>1</td>\n      <td>0.0100</td>\n      <td>Fortive</td>\n      <td>FTV</td>\n      <td>Stock</td>\n      <td>NaN</td>\n    </tr>\n    <tr>\n      <th>6</th>\n      <td>russia</td>\n      <td>MosEnrg</td>\n      <td>MosEnrg</td>\n      <td>RU0008958863</td>\n      <td>RUB</td>\n      <td>MSNG</td>\n      <td>2021-06-10 15:18:47.197084</td>\n      <td>RUB</td>\n      <td>BBG004S687W8</td>\n      <td>RU0008958863</td>\n      <td>1000</td>\n      <td>0.0005</td>\n      <td>Мосэнерго</td>\n      <td>MSNG</td>\n      <td>Stock</td>\n      <td>NaN</td>\n    </tr>\n  </tbody>\n</table>\n</div>"
     },
     "metadata": {},
     "execution_count": 21
    }
   ]
  },
  {
   "cell_type": "code",
   "execution_count": 19,
   "metadata": {},
   "outputs": [
    {
     "output_type": "execute_result",
     "data": {
      "text/plain": [
       "             country                  name  \\\n",
       "62         argentina           Chevron DRC   \n",
       "63         argentina         Citigroup DRC   \n",
       "1983          canada  Cematrix Corporation   \n",
       "2424           chile               Chevron   \n",
       "2577          mexico             Citigroup   \n",
       "2724          mexico               Chevron   \n",
       "3159          mexico               Chevron   \n",
       "3259   united states               Chevron   \n",
       "3260   united states             Citigroup   \n",
       "4476   united states          InterDigital   \n",
       "4876   united states               Fortive   \n",
       "7970         austria               Chevron   \n",
       "8329         belgium               Chevron   \n",
       "13156         russia               MosEnrg   \n",
       "15096    switzerland             Citigroup   \n",
       "15117    switzerland               Chevron   \n",
       "30830    philippines     Chelsea Logistics   \n",
       "\n",
       "                                               full_name          isin  \\\n",
       "62                                      Chevron Corp DRC  ARDEUT110087   \n",
       "63                                     Citigroup Inc DRC  ARDEUT110426   \n",
       "1983                                Cematrix Corporation  CA15120R1038   \n",
       "2424                                        Chevron Corp  US1667641005   \n",
       "2577                                      Citigroup Inc.  US1729674242   \n",
       "2724                                 Chevron Corporation  US1667641005   \n",
       "3159                                        Chevron Corp  US1667641005   \n",
       "3259                                        Chevron Corp  US1667641005   \n",
       "3260                                       Citigroup Inc  US1729674242   \n",
       "4476                                    InterDigital Inc  US45867G1013   \n",
       "4876                                        Fortive Corp  US34959J1088   \n",
       "7970                                        Chevron Corp  US1667641005   \n",
       "8329                                 Chevron Corporation  US1667641005   \n",
       "13156                                            MosEnrg  RU0008958863   \n",
       "15096                                      Citigroup Inc  US1729674242   \n",
       "15117                                       Chevron Corp  US1667641005   \n",
       "30830  Chelsea Logistics and Infrastracture Holdings ...  PHY1R12R1084   \n",
       "\n",
       "      currency symbol  \n",
       "62         ARS    CVX  \n",
       "63         ARS      C  \n",
       "1983       CAD    CVX  \n",
       "2424       USD    CVX  \n",
       "2577       MXN      C  \n",
       "2724       MXN    CVX  \n",
       "3159       MXN    CVX  \n",
       "3259       USD    CVX  \n",
       "3260       USD      C  \n",
       "4476       USD   IDCC  \n",
       "4876       USD    FTV  \n",
       "7970       EUR    CVX  \n",
       "8329       USD    CVX  \n",
       "13156      RUB   MSNG  \n",
       "15096      CHF      C  \n",
       "15117      CHF    CVX  \n",
       "30830      PHP      C  "
      ],
      "text/html": "<div>\n<style scoped>\n    .dataframe tbody tr th:only-of-type {\n        vertical-align: middle;\n    }\n\n    .dataframe tbody tr th {\n        vertical-align: top;\n    }\n\n    .dataframe thead th {\n        text-align: right;\n    }\n</style>\n<table border=\"1\" class=\"dataframe\">\n  <thead>\n    <tr style=\"text-align: right;\">\n      <th></th>\n      <th>country</th>\n      <th>name</th>\n      <th>full_name</th>\n      <th>isin</th>\n      <th>currency</th>\n      <th>symbol</th>\n    </tr>\n  </thead>\n  <tbody>\n    <tr>\n      <th>62</th>\n      <td>argentina</td>\n      <td>Chevron DRC</td>\n      <td>Chevron Corp DRC</td>\n      <td>ARDEUT110087</td>\n      <td>ARS</td>\n      <td>CVX</td>\n    </tr>\n    <tr>\n      <th>63</th>\n      <td>argentina</td>\n      <td>Citigroup DRC</td>\n      <td>Citigroup Inc DRC</td>\n      <td>ARDEUT110426</td>\n      <td>ARS</td>\n      <td>C</td>\n    </tr>\n    <tr>\n      <th>1983</th>\n      <td>canada</td>\n      <td>Cematrix Corporation</td>\n      <td>Cematrix Corporation</td>\n      <td>CA15120R1038</td>\n      <td>CAD</td>\n      <td>CVX</td>\n    </tr>\n    <tr>\n      <th>2424</th>\n      <td>chile</td>\n      <td>Chevron</td>\n      <td>Chevron Corp</td>\n      <td>US1667641005</td>\n      <td>USD</td>\n      <td>CVX</td>\n    </tr>\n    <tr>\n      <th>2577</th>\n      <td>mexico</td>\n      <td>Citigroup</td>\n      <td>Citigroup Inc.</td>\n      <td>US1729674242</td>\n      <td>MXN</td>\n      <td>C</td>\n    </tr>\n    <tr>\n      <th>2724</th>\n      <td>mexico</td>\n      <td>Chevron</td>\n      <td>Chevron Corporation</td>\n      <td>US1667641005</td>\n      <td>MXN</td>\n      <td>CVX</td>\n    </tr>\n    <tr>\n      <th>3159</th>\n      <td>mexico</td>\n      <td>Chevron</td>\n      <td>Chevron Corp</td>\n      <td>US1667641005</td>\n      <td>MXN</td>\n      <td>CVX</td>\n    </tr>\n    <tr>\n      <th>3259</th>\n      <td>united states</td>\n      <td>Chevron</td>\n      <td>Chevron Corp</td>\n      <td>US1667641005</td>\n      <td>USD</td>\n      <td>CVX</td>\n    </tr>\n    <tr>\n      <th>3260</th>\n      <td>united states</td>\n      <td>Citigroup</td>\n      <td>Citigroup Inc</td>\n      <td>US1729674242</td>\n      <td>USD</td>\n      <td>C</td>\n    </tr>\n    <tr>\n      <th>4476</th>\n      <td>united states</td>\n      <td>InterDigital</td>\n      <td>InterDigital Inc</td>\n      <td>US45867G1013</td>\n      <td>USD</td>\n      <td>IDCC</td>\n    </tr>\n    <tr>\n      <th>4876</th>\n      <td>united states</td>\n      <td>Fortive</td>\n      <td>Fortive Corp</td>\n      <td>US34959J1088</td>\n      <td>USD</td>\n      <td>FTV</td>\n    </tr>\n    <tr>\n      <th>7970</th>\n      <td>austria</td>\n      <td>Chevron</td>\n      <td>Chevron Corp</td>\n      <td>US1667641005</td>\n      <td>EUR</td>\n      <td>CVX</td>\n    </tr>\n    <tr>\n      <th>8329</th>\n      <td>belgium</td>\n      <td>Chevron</td>\n      <td>Chevron Corporation</td>\n      <td>US1667641005</td>\n      <td>USD</td>\n      <td>CVX</td>\n    </tr>\n    <tr>\n      <th>13156</th>\n      <td>russia</td>\n      <td>MosEnrg</td>\n      <td>MosEnrg</td>\n      <td>RU0008958863</td>\n      <td>RUB</td>\n      <td>MSNG</td>\n    </tr>\n    <tr>\n      <th>15096</th>\n      <td>switzerland</td>\n      <td>Citigroup</td>\n      <td>Citigroup Inc</td>\n      <td>US1729674242</td>\n      <td>CHF</td>\n      <td>C</td>\n    </tr>\n    <tr>\n      <th>15117</th>\n      <td>switzerland</td>\n      <td>Chevron</td>\n      <td>Chevron Corp</td>\n      <td>US1667641005</td>\n      <td>CHF</td>\n      <td>CVX</td>\n    </tr>\n    <tr>\n      <th>30830</th>\n      <td>philippines</td>\n      <td>Chelsea Logistics</td>\n      <td>Chelsea Logistics and Infrastracture Holdings ...</td>\n      <td>PHY1R12R1084</td>\n      <td>PHP</td>\n      <td>C</td>\n    </tr>\n  </tbody>\n</table>\n</div>"
     },
     "metadata": {},
     "execution_count": 19
    }
   ],
   "source": [
    "i_com_fundamentals_df[i_com_fundamentals_df['symbol'].isin(sample['TICKER'])]"
   ]
  },
  {
   "cell_type": "code",
   "execution_count": null,
   "metadata": {},
   "outputs": [],
   "source": [
    "Через данный сервис также можно получать информацию об исторических продажах, что однако ограничено дневными, недельными и месячными срезами, в отличии от двух других источников."
   ]
  },
  {
   "cell_type": "code",
   "execution_count": 33,
   "metadata": {},
   "outputs": [],
   "source": [
    "appl_daily_df = investpy.get_stock_historical_data(stock='AAPL',\n",
    "                                        country='United States',\n",
    "                                        from_date='01/01/2010',\n",
    "                                        to_date='01/01/2020', interval='Daily')"
   ]
  },
  {
   "cell_type": "code",
   "execution_count": 35,
   "metadata": {},
   "outputs": [
    {
     "output_type": "execute_result",
     "data": {
      "text/plain": [
       "            Open  High   Low  Close     Volume Currency\n",
       "Date                                                   \n",
       "2010-01-04  7.62  7.66  7.58   7.64  493728704      USD\n",
       "2010-01-05  7.66  7.70  7.62   7.66  601904640      USD\n",
       "2010-01-06  7.66  7.69  7.53   7.53  552158912      USD\n",
       "2010-01-07  7.56  7.57  7.47   7.52  477129760      USD\n",
       "2010-01-08  7.51  7.57  7.47   7.57  447876768      USD"
      ],
      "text/html": "<div>\n<style scoped>\n    .dataframe tbody tr th:only-of-type {\n        vertical-align: middle;\n    }\n\n    .dataframe tbody tr th {\n        vertical-align: top;\n    }\n\n    .dataframe thead th {\n        text-align: right;\n    }\n</style>\n<table border=\"1\" class=\"dataframe\">\n  <thead>\n    <tr style=\"text-align: right;\">\n      <th></th>\n      <th>Open</th>\n      <th>High</th>\n      <th>Low</th>\n      <th>Close</th>\n      <th>Volume</th>\n      <th>Currency</th>\n    </tr>\n    <tr>\n      <th>Date</th>\n      <th></th>\n      <th></th>\n      <th></th>\n      <th></th>\n      <th></th>\n      <th></th>\n    </tr>\n  </thead>\n  <tbody>\n    <tr>\n      <th>2010-01-04</th>\n      <td>7.62</td>\n      <td>7.66</td>\n      <td>7.58</td>\n      <td>7.64</td>\n      <td>493728704</td>\n      <td>USD</td>\n    </tr>\n    <tr>\n      <th>2010-01-05</th>\n      <td>7.66</td>\n      <td>7.70</td>\n      <td>7.62</td>\n      <td>7.66</td>\n      <td>601904640</td>\n      <td>USD</td>\n    </tr>\n    <tr>\n      <th>2010-01-06</th>\n      <td>7.66</td>\n      <td>7.69</td>\n      <td>7.53</td>\n      <td>7.53</td>\n      <td>552158912</td>\n      <td>USD</td>\n    </tr>\n    <tr>\n      <th>2010-01-07</th>\n      <td>7.56</td>\n      <td>7.57</td>\n      <td>7.47</td>\n      <td>7.52</td>\n      <td>477129760</td>\n      <td>USD</td>\n    </tr>\n    <tr>\n      <th>2010-01-08</th>\n      <td>7.51</td>\n      <td>7.57</td>\n      <td>7.47</td>\n      <td>7.57</td>\n      <td>447876768</td>\n      <td>USD</td>\n    </tr>\n  </tbody>\n</table>\n</div>"
     },
     "metadata": {},
     "execution_count": 35
    }
   ],
   "source": [
    "appl_daily_df.head()"
   ]
  },
  {
   "source": [
    "#### Yahoo Finance API\n",
    "Позволяет получить информацию используя данные сайта Yahoo Finance. Существуют как платные, так и бесплатные инструментарии для работы с эти API. Для ограниченной выгрузки данных можно использовать бесплатный, одним из которых является библиотека yfinance"
   ],
   "cell_type": "markdown",
   "metadata": {}
  },
  {
   "cell_type": "code",
   "execution_count": 36,
   "metadata": {},
   "outputs": [],
   "source": [
    "aapl = yf.Ticker('aapl')"
   ]
  },
  {
   "cell_type": "code",
   "execution_count": 39,
   "metadata": {},
   "outputs": [
    {
     "output_type": "execute_result",
     "data": {
      "text/plain": [
       "{'zip': '95014',\n",
       " 'sector': 'Technology',\n",
       " 'fullTimeEmployees': 100000,\n",
       " 'longBusinessSummary': 'Apple Inc. designs, manufactures, and markets smartphones, personal computers, tablets, wearables, and accessories worldwide. It also sells various related services. The company offers iPhone, a line of smartphones; Mac, a line of personal computers; iPad, a line of multi-purpose tablets; and wearables, home, and accessories comprising AirPods, Apple TV, Apple Watch, Beats products, HomePod, iPod touch, and other Apple-branded and third-party accessories. It also provides AppleCare support services; cloud services store services; and operates various platforms, including the App Store, that allow customers to discover and download applications and digital content, such as books, music, video, games, and podcasts. In addition, the company offers various services, such as Apple Arcade, a game subscription service; Apple Music, which offers users a curated listening experience with on-demand radio stations; Apple News+, a subscription news and magazine service; Apple TV+, which offers exclusive original content; Apple Card, a co-branded credit card; and Apple Pay, a cashless payment service, as well as licenses its intellectual property. The company serves consumers, and small and mid-sized businesses; and the education, enterprise, and government markets. It sells and delivers third-party applications for its products through the App Store. The company also sells its products through its retail and online stores, and direct sales force; and third-party cellular network carriers, wholesalers, retailers, and resellers. Apple Inc. was founded in 1977 and is headquartered in Cupertino, California.',\n",
       " 'city': 'Cupertino',\n",
       " 'phone': '408-996-1010',\n",
       " 'state': 'CA',\n",
       " 'country': 'United States',\n",
       " 'companyOfficers': [],\n",
       " 'website': 'http://www.apple.com',\n",
       " 'maxAge': 1,\n",
       " 'address1': 'One Apple Park Way',\n",
       " 'industry': 'Consumer Electronics',\n",
       " 'previousClose': 131.79,\n",
       " 'regularMarketOpen': 130.71,\n",
       " 'twoHundredDayAverage': 128.28687,\n",
       " 'trailingAnnualDividendYield': 0.0062220204,\n",
       " 'payoutRatio': 0.1834,\n",
       " 'volume24Hr': None,\n",
       " 'regularMarketDayHigh': 131.51,\n",
       " 'navPrice': None,\n",
       " 'averageDailyVolume10Day': 72456300,\n",
       " 'totalAssets': None,\n",
       " 'regularMarketPreviousClose': 131.79,\n",
       " 'fiftyDayAverage': 127.14382,\n",
       " 'trailingAnnualDividendRate': 0.82,\n",
       " 'open': 130.71,\n",
       " 'averageVolume10days': 72456300,\n",
       " 'expireDate': None,\n",
       " 'yield': None,\n",
       " 'algorithm': None,\n",
       " 'dividendRate': 0.88,\n",
       " 'exDividendDate': 1620345600,\n",
       " 'beta': 1.219525,\n",
       " 'circulatingSupply': None,\n",
       " 'startDate': None,\n",
       " 'regularMarketDayLow': 130.59,\n",
       " 'priceHint': 2,\n",
       " 'currency': 'USD',\n",
       " 'trailingPE': 29.372892,\n",
       " 'regularMarketVolume': 36013422,\n",
       " 'lastMarket': None,\n",
       " 'maxSupply': None,\n",
       " 'openInterest': None,\n",
       " 'marketCap': 2180735434752,\n",
       " 'volumeAllCurrencies': None,\n",
       " 'strikePrice': None,\n",
       " 'averageVolume': 87910763,\n",
       " 'priceToSalesTrailing12Months': 6.7015834,\n",
       " 'dayLow': 130.59,\n",
       " 'ask': 131.18,\n",
       " 'ytdReturn': None,\n",
       " 'askSize': 900,\n",
       " 'volume': 36013422,\n",
       " 'fiftyTwoWeekHigh': 145.09,\n",
       " 'forwardPE': 24.610168,\n",
       " 'fromCurrency': None,\n",
       " 'fiveYearAvgDividendYield': 1.37,\n",
       " 'fiftyTwoWeekLow': 86.2875,\n",
       " 'bid': 131.17,\n",
       " 'tradeable': False,\n",
       " 'dividendYield': 0.0069,\n",
       " 'bidSize': 1400,\n",
       " 'dayHigh': 131.51,\n",
       " 'exchange': 'NMS',\n",
       " 'shortName': 'Apple Inc.',\n",
       " 'longName': 'Apple Inc.',\n",
       " 'exchangeTimezoneName': 'America/New_York',\n",
       " 'exchangeTimezoneShortName': 'EDT',\n",
       " 'isEsgPopulated': True,\n",
       " 'gmtOffSetMilliseconds': '-14400000',\n",
       " 'underlyingSymbol': None,\n",
       " 'quoteType': 'EQUITY',\n",
       " 'symbol': 'AAPL',\n",
       " 'underlyingExchangeSymbol': None,\n",
       " 'headSymbol': None,\n",
       " 'messageBoardId': 'finmb_24937',\n",
       " 'uuid': '8b10e4ae-9eeb-3684-921a-9ab27e4d87aa',\n",
       " 'market': 'us_market',\n",
       " 'annualHoldingsTurnover': None,\n",
       " 'enterpriseToRevenue': 6.716,\n",
       " 'beta3Year': None,\n",
       " 'profitMargins': 0.23451,\n",
       " 'enterpriseToEbitda': 21.893,\n",
       " '52WeekChange': None,\n",
       " 'morningStarRiskRating': None,\n",
       " 'forwardEps': 5.31,\n",
       " 'revenueQuarterlyGrowth': None,\n",
       " 'sharesOutstanding': 16687599616,\n",
       " 'fundInceptionDate': None,\n",
       " 'annualReportExpenseRatio': None,\n",
       " 'bookValue': 4.146,\n",
       " 'sharesShort': 127937929,\n",
       " 'sharesPercentSharesOut': 0.0077,\n",
       " 'fundFamily': None,\n",
       " 'lastFiscalYearEnd': 1601078400,\n",
       " 'heldPercentInstitutions': 0.60099,\n",
       " 'netIncomeToCommon': 76311003136,\n",
       " 'trailingEps': 4.449,\n",
       " 'lastDividendValue': None,\n",
       " 'SandP52WeekChange': None,\n",
       " 'priceToBook': 31.519535,\n",
       " 'heldPercentInsiders': 0.00075999997,\n",
       " 'nextFiscalYearEnd': 1664150400,\n",
       " 'mostRecentQuarter': 1616803200,\n",
       " 'shortRatio': 1.29,\n",
       " 'sharesShortPreviousMonthDate': 1615766400,\n",
       " 'floatShares': 16670275864,\n",
       " 'enterpriseValue': 2185324658688,\n",
       " 'threeYearAverageReturn': None,\n",
       " 'lastSplitDate': 1598832000,\n",
       " 'lastSplitFactor': '4:1',\n",
       " 'legalType': None,\n",
       " 'morningStarOverallRating': None,\n",
       " 'earningsQuarterlyGrowth': 1.101,\n",
       " 'dateShortInterest': 1618444800,\n",
       " 'pegRatio': 1.45,\n",
       " 'lastCapGain': None,\n",
       " 'shortPercentOfFloat': 0.0077,\n",
       " 'sharesShortPriorMonth': 107011007,\n",
       " 'category': None,\n",
       " 'fiveYearAverageReturn': None,\n",
       " 'regularMarketPrice': 130.68,\n",
       " 'logo_url': 'https://logo.clearbit.com/apple.com'}"
      ]
     },
     "metadata": {},
     "execution_count": 39
    }
   ],
   "source": [
    "aapl.info"
   ]
  },
  {
   "cell_type": "code",
   "execution_count": 38,
   "metadata": {},
   "outputs": [
    {
     "output_type": "execute_result",
     "data": {
      "text/plain": [
       "                                 Open        High         Low       Close  \\\n",
       "2021-06-02 09:30:00-04:00  124.279999  125.190002  124.110001  125.084999   \n",
       "2021-06-02 10:30:00-04:00  125.079697  125.239998  124.650002  124.970001   \n",
       "2021-06-02 11:30:00-04:00  124.970001  125.180000  124.620003  124.706802   \n",
       "2021-06-02 12:30:00-04:00  124.705002  124.709999  124.070000  124.195000   \n",
       "2021-06-02 13:30:00-04:00  124.199997  124.510002  124.050003  124.480003   \n",
       "2021-06-02 14:30:00-04:00  124.485001  124.794998  124.410004  124.785004   \n",
       "2021-06-02 15:30:00-04:00  124.790001  125.168999  124.660004  125.089996   \n",
       "2021-06-18 10:54:59-04:00  130.679993  130.679993  130.679993  130.679993   \n",
       "\n",
       "                             Volume  Dividends  Stock Splits  \n",
       "2021-06-02 09:30:00-04:00  16148036          0             0  \n",
       "2021-06-02 10:30:00-04:00   8434366          0             0  \n",
       "2021-06-02 11:30:00-04:00   5315912          0             0  \n",
       "2021-06-02 12:30:00-04:00   5513431          0             0  \n",
       "2021-06-02 13:30:00-04:00   5447741          0             0  \n",
       "2021-06-02 14:30:00-04:00   5563554          0             0  \n",
       "2021-06-02 15:30:00-04:00   6289304          0             0  \n",
       "2021-06-18 10:54:59-04:00         0          0             0  "
      ],
      "text/html": "<div>\n<style scoped>\n    .dataframe tbody tr th:only-of-type {\n        vertical-align: middle;\n    }\n\n    .dataframe tbody tr th {\n        vertical-align: top;\n    }\n\n    .dataframe thead th {\n        text-align: right;\n    }\n</style>\n<table border=\"1\" class=\"dataframe\">\n  <thead>\n    <tr style=\"text-align: right;\">\n      <th></th>\n      <th>Open</th>\n      <th>High</th>\n      <th>Low</th>\n      <th>Close</th>\n      <th>Volume</th>\n      <th>Dividends</th>\n      <th>Stock Splits</th>\n    </tr>\n  </thead>\n  <tbody>\n    <tr>\n      <th>2021-06-02 09:30:00-04:00</th>\n      <td>124.279999</td>\n      <td>125.190002</td>\n      <td>124.110001</td>\n      <td>125.084999</td>\n      <td>16148036</td>\n      <td>0</td>\n      <td>0</td>\n    </tr>\n    <tr>\n      <th>2021-06-02 10:30:00-04:00</th>\n      <td>125.079697</td>\n      <td>125.239998</td>\n      <td>124.650002</td>\n      <td>124.970001</td>\n      <td>8434366</td>\n      <td>0</td>\n      <td>0</td>\n    </tr>\n    <tr>\n      <th>2021-06-02 11:30:00-04:00</th>\n      <td>124.970001</td>\n      <td>125.180000</td>\n      <td>124.620003</td>\n      <td>124.706802</td>\n      <td>5315912</td>\n      <td>0</td>\n      <td>0</td>\n    </tr>\n    <tr>\n      <th>2021-06-02 12:30:00-04:00</th>\n      <td>124.705002</td>\n      <td>124.709999</td>\n      <td>124.070000</td>\n      <td>124.195000</td>\n      <td>5513431</td>\n      <td>0</td>\n      <td>0</td>\n    </tr>\n    <tr>\n      <th>2021-06-02 13:30:00-04:00</th>\n      <td>124.199997</td>\n      <td>124.510002</td>\n      <td>124.050003</td>\n      <td>124.480003</td>\n      <td>5447741</td>\n      <td>0</td>\n      <td>0</td>\n    </tr>\n    <tr>\n      <th>2021-06-02 14:30:00-04:00</th>\n      <td>124.485001</td>\n      <td>124.794998</td>\n      <td>124.410004</td>\n      <td>124.785004</td>\n      <td>5563554</td>\n      <td>0</td>\n      <td>0</td>\n    </tr>\n    <tr>\n      <th>2021-06-02 15:30:00-04:00</th>\n      <td>124.790001</td>\n      <td>125.168999</td>\n      <td>124.660004</td>\n      <td>125.089996</td>\n      <td>6289304</td>\n      <td>0</td>\n      <td>0</td>\n    </tr>\n    <tr>\n      <th>2021-06-18 10:54:59-04:00</th>\n      <td>130.679993</td>\n      <td>130.679993</td>\n      <td>130.679993</td>\n      <td>130.679993</td>\n      <td>0</td>\n      <td>0</td>\n      <td>0</td>\n    </tr>\n  </tbody>\n</table>\n</div>"
     },
     "metadata": {},
     "execution_count": 38
    }
   ],
   "source": [
    "aapl.history(\n",
    "    interval='1h', \n",
    "    start=\"2021-06-02\", \n",
    "    end= \"2021-06-03\"\n",
    ")"
   ]
  }
 ]
}